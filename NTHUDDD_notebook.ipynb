{
 "cells": [
  {
   "cell_type": "code",
   "execution_count": 1,
   "metadata": {},
   "outputs": [],
   "source": [
    "import test_environment as t\n",
    "from test_environment import TestEnvironment\n",
    "import yaml"
   ]
  },
  {
   "cell_type": "code",
   "execution_count": 2,
   "metadata": {},
   "outputs": [],
   "source": [
    "test_env = TestEnvironment()"
   ]
  },
  {
   "cell_type": "code",
   "execution_count": 3,
   "metadata": {},
   "outputs": [],
   "source": [
    "with open(\"config.yaml\", \"r\") as f:\n",
    "    config = yaml.load(f, Loader=yaml.loader.FullLoader)"
   ]
  },
  {
   "cell_type": "code",
   "execution_count": 4,
   "metadata": {},
   "outputs": [],
   "source": [
    "videos_and_labels = (test_env.get_videos_and_labels_NTHUDDD())"
   ]
  },
  {
   "cell_type": "code",
   "execution_count": 5,
   "metadata": {},
   "outputs": [
    {
     "name": "stdout",
     "output_type": "stream",
     "text": [
      "[]\n"
     ]
    },
    {
     "ename": "ValueError",
     "evalue": "Length of values (0) does not match length of index (3330)",
     "output_type": "error",
     "traceback": [
      "\u001b[1;31m---------------------------------------------------------------------------\u001b[0m",
      "\u001b[1;31mValueError\u001b[0m                                Traceback (most recent call last)",
      "\u001b[1;32md:\\TFG\\MVP\\NTHUDDD_notebook.ipynb Cell 5'\u001b[0m in \u001b[0;36m<cell line: 2>\u001b[1;34m()\u001b[0m\n\u001b[0;32m      <a href='vscode-notebook-cell:/d%3A/TFG/MVP/NTHUDDD_notebook.ipynb#ch0000003?line=0'>1</a>\u001b[0m \u001b[39mimport\u001b[39;00m \u001b[39mmetrics_obtention\u001b[39;00m \u001b[39mas\u001b[39;00m \u001b[39mmo\u001b[39;00m\n\u001b[1;32m----> <a href='vscode-notebook-cell:/d%3A/TFG/MVP/NTHUDDD_notebook.ipynb#ch0000003?line=1'>2</a>\u001b[0m df_list \u001b[39m=\u001b[39m mo\u001b[39m.\u001b[39;49mcreate_dataset_from_videos_NTHU(videos_and_labels, target_folder\u001b[39m=\u001b[39;49m\u001b[39m\"\u001b[39;49m\u001b[39mNTHUDDD_dataset/\u001b[39;49m\u001b[39m\"\u001b[39;49m, config\u001b[39m=\u001b[39;49mconfig[\u001b[39m\"\u001b[39;49m\u001b[39mmetric_obtention\u001b[39;49m\u001b[39m\"\u001b[39;49m])\n",
      "File \u001b[1;32md:\\TFG\\MVP\\metrics_obtention.py:300\u001b[0m, in \u001b[0;36mcreate_dataset_from_videos_NTHU\u001b[1;34m(videos_and_labels, target_folder, config)\u001b[0m\n\u001b[0;32m    <a href='file:///d%3A/TFG/MVP/metrics_obtention.py?line=297'>298</a>\u001b[0m labels \u001b[39m=\u001b[39m vid_lab[\u001b[39m\"\u001b[39m\u001b[39mlabels\u001b[39m\u001b[39m\"\u001b[39m]\n\u001b[0;32m    <a href='file:///d%3A/TFG/MVP/metrics_obtention.py?line=298'>299</a>\u001b[0m video \u001b[39m=\u001b[39m vid_lab[\u001b[39m\"\u001b[39m\u001b[39mvideo\u001b[39m\u001b[39m\"\u001b[39m]\n\u001b[1;32m--> <a href='file:///d%3A/TFG/MVP/metrics_obtention.py?line=299'>300</a>\u001b[0m video_df \u001b[39m=\u001b[39m create_dataset_from_video(video, subject, config, labels)\n\u001b[0;32m    <a href='file:///d%3A/TFG/MVP/metrics_obtention.py?line=300'>301</a>\u001b[0m video_df\u001b[39m.\u001b[39mto_csv(\u001b[39mf\u001b[39m\u001b[39m\"\u001b[39m\u001b[39m{\u001b[39;00mtarget_folder\u001b[39m}\u001b[39;00m\u001b[39m{\u001b[39;00msubject\u001b[39m}\u001b[39;00m\u001b[39m_\u001b[39m\u001b[39m{\u001b[39;00mscenario\u001b[39m}\u001b[39;00m\u001b[39m_\u001b[39m\u001b[39m{\u001b[39;00mvideo_type\u001b[39m}\u001b[39;00m\u001b[39m.csv\u001b[39m\u001b[39m\"\u001b[39m)\n\u001b[0;32m    <a href='file:///d%3A/TFG/MVP/metrics_obtention.py?line=301'>302</a>\u001b[0m df_list\u001b[39m.\u001b[39mappend(video_df)\n",
      "File \u001b[1;32md:\\TFG\\MVP\\metrics_obtention.py:288\u001b[0m, in \u001b[0;36mcreate_dataset_from_video\u001b[1;34m(input_video, subject, config, labels)\u001b[0m\n\u001b[0;32m    <a href='file:///d%3A/TFG/MVP/metrics_obtention.py?line=284'>285</a>\u001b[0m num_samples \u001b[39m=\u001b[39m \u001b[39mlen\u001b[39m(metric_list)\n\u001b[0;32m    <a href='file:///d%3A/TFG/MVP/metrics_obtention.py?line=286'>287</a>\u001b[0m metric_dataframe[\u001b[39m\"\u001b[39m\u001b[39mlabel\u001b[39m\u001b[39m\"\u001b[39m] \u001b[39m=\u001b[39m labels\n\u001b[1;32m--> <a href='file:///d%3A/TFG/MVP/metrics_obtention.py?line=287'>288</a>\u001b[0m metric_dataframe[\u001b[39m\"\u001b[39m\u001b[39mfps\u001b[39m\u001b[39m\"\u001b[39m] \u001b[39m=\u001b[39m [fps] \u001b[39m*\u001b[39m num_samples\n\u001b[0;32m    <a href='file:///d%3A/TFG/MVP/metrics_obtention.py?line=288'>289</a>\u001b[0m metric_dataframe[\u001b[39m\"\u001b[39m\u001b[39msubject\u001b[39m\u001b[39m\"\u001b[39m] \u001b[39m=\u001b[39m [subject] \u001b[39m*\u001b[39m num_samples\n\u001b[0;32m    <a href='file:///d%3A/TFG/MVP/metrics_obtention.py?line=289'>290</a>\u001b[0m \u001b[39mreturn\u001b[39;00m metric_dataframe\n",
      "File \u001b[1;32mc:\\Users\\adrim\\.conda\\envs\\TFG\\lib\\site-packages\\pandas\\core\\frame.py:3655\u001b[0m, in \u001b[0;36mDataFrame.__setitem__\u001b[1;34m(self, key, value)\u001b[0m\n\u001b[0;32m   <a href='file:///c%3A/Users/adrim/.conda/envs/TFG/lib/site-packages/pandas/core/frame.py?line=3651'>3652</a>\u001b[0m     \u001b[39mself\u001b[39m\u001b[39m.\u001b[39m_setitem_array([key], value)\n\u001b[0;32m   <a href='file:///c%3A/Users/adrim/.conda/envs/TFG/lib/site-packages/pandas/core/frame.py?line=3652'>3653</a>\u001b[0m \u001b[39melse\u001b[39;00m:\n\u001b[0;32m   <a href='file:///c%3A/Users/adrim/.conda/envs/TFG/lib/site-packages/pandas/core/frame.py?line=3653'>3654</a>\u001b[0m     \u001b[39m# set column\u001b[39;00m\n\u001b[1;32m-> <a href='file:///c%3A/Users/adrim/.conda/envs/TFG/lib/site-packages/pandas/core/frame.py?line=3654'>3655</a>\u001b[0m     \u001b[39mself\u001b[39;49m\u001b[39m.\u001b[39;49m_set_item(key, value)\n",
      "File \u001b[1;32mc:\\Users\\adrim\\.conda\\envs\\TFG\\lib\\site-packages\\pandas\\core\\frame.py:3832\u001b[0m, in \u001b[0;36mDataFrame._set_item\u001b[1;34m(self, key, value)\u001b[0m\n\u001b[0;32m   <a href='file:///c%3A/Users/adrim/.conda/envs/TFG/lib/site-packages/pandas/core/frame.py?line=3821'>3822</a>\u001b[0m \u001b[39mdef\u001b[39;00m \u001b[39m_set_item\u001b[39m(\u001b[39mself\u001b[39m, key, value) \u001b[39m-\u001b[39m\u001b[39m>\u001b[39m \u001b[39mNone\u001b[39;00m:\n\u001b[0;32m   <a href='file:///c%3A/Users/adrim/.conda/envs/TFG/lib/site-packages/pandas/core/frame.py?line=3822'>3823</a>\u001b[0m     \u001b[39m\"\"\"\u001b[39;00m\n\u001b[0;32m   <a href='file:///c%3A/Users/adrim/.conda/envs/TFG/lib/site-packages/pandas/core/frame.py?line=3823'>3824</a>\u001b[0m \u001b[39m    Add series to DataFrame in specified column.\u001b[39;00m\n\u001b[0;32m   <a href='file:///c%3A/Users/adrim/.conda/envs/TFG/lib/site-packages/pandas/core/frame.py?line=3824'>3825</a>\u001b[0m \n\u001b[1;32m   (...)\u001b[0m\n\u001b[0;32m   <a href='file:///c%3A/Users/adrim/.conda/envs/TFG/lib/site-packages/pandas/core/frame.py?line=3829'>3830</a>\u001b[0m \u001b[39m    ensure homogeneity.\u001b[39;00m\n\u001b[0;32m   <a href='file:///c%3A/Users/adrim/.conda/envs/TFG/lib/site-packages/pandas/core/frame.py?line=3830'>3831</a>\u001b[0m \u001b[39m    \"\"\"\u001b[39;00m\n\u001b[1;32m-> <a href='file:///c%3A/Users/adrim/.conda/envs/TFG/lib/site-packages/pandas/core/frame.py?line=3831'>3832</a>\u001b[0m     value \u001b[39m=\u001b[39m \u001b[39mself\u001b[39;49m\u001b[39m.\u001b[39;49m_sanitize_column(value)\n\u001b[0;32m   <a href='file:///c%3A/Users/adrim/.conda/envs/TFG/lib/site-packages/pandas/core/frame.py?line=3833'>3834</a>\u001b[0m     \u001b[39mif\u001b[39;00m (\n\u001b[0;32m   <a href='file:///c%3A/Users/adrim/.conda/envs/TFG/lib/site-packages/pandas/core/frame.py?line=3834'>3835</a>\u001b[0m         key \u001b[39min\u001b[39;00m \u001b[39mself\u001b[39m\u001b[39m.\u001b[39mcolumns\n\u001b[0;32m   <a href='file:///c%3A/Users/adrim/.conda/envs/TFG/lib/site-packages/pandas/core/frame.py?line=3835'>3836</a>\u001b[0m         \u001b[39mand\u001b[39;00m value\u001b[39m.\u001b[39mndim \u001b[39m==\u001b[39m \u001b[39m1\u001b[39m\n\u001b[0;32m   <a href='file:///c%3A/Users/adrim/.conda/envs/TFG/lib/site-packages/pandas/core/frame.py?line=3836'>3837</a>\u001b[0m         \u001b[39mand\u001b[39;00m \u001b[39mnot\u001b[39;00m is_extension_array_dtype(value)\n\u001b[0;32m   <a href='file:///c%3A/Users/adrim/.conda/envs/TFG/lib/site-packages/pandas/core/frame.py?line=3837'>3838</a>\u001b[0m     ):\n\u001b[0;32m   <a href='file:///c%3A/Users/adrim/.conda/envs/TFG/lib/site-packages/pandas/core/frame.py?line=3838'>3839</a>\u001b[0m         \u001b[39m# broadcast across multiple columns if necessary\u001b[39;00m\n\u001b[0;32m   <a href='file:///c%3A/Users/adrim/.conda/envs/TFG/lib/site-packages/pandas/core/frame.py?line=3839'>3840</a>\u001b[0m         \u001b[39mif\u001b[39;00m \u001b[39mnot\u001b[39;00m \u001b[39mself\u001b[39m\u001b[39m.\u001b[39mcolumns\u001b[39m.\u001b[39mis_unique \u001b[39mor\u001b[39;00m \u001b[39misinstance\u001b[39m(\u001b[39mself\u001b[39m\u001b[39m.\u001b[39mcolumns, MultiIndex):\n",
      "File \u001b[1;32mc:\\Users\\adrim\\.conda\\envs\\TFG\\lib\\site-packages\\pandas\\core\\frame.py:4535\u001b[0m, in \u001b[0;36mDataFrame._sanitize_column\u001b[1;34m(self, value)\u001b[0m\n\u001b[0;32m   <a href='file:///c%3A/Users/adrim/.conda/envs/TFG/lib/site-packages/pandas/core/frame.py?line=4531'>4532</a>\u001b[0m     \u001b[39mreturn\u001b[39;00m _reindex_for_setitem(value, \u001b[39mself\u001b[39m\u001b[39m.\u001b[39mindex)\n\u001b[0;32m   <a href='file:///c%3A/Users/adrim/.conda/envs/TFG/lib/site-packages/pandas/core/frame.py?line=4533'>4534</a>\u001b[0m \u001b[39mif\u001b[39;00m is_list_like(value):\n\u001b[1;32m-> <a href='file:///c%3A/Users/adrim/.conda/envs/TFG/lib/site-packages/pandas/core/frame.py?line=4534'>4535</a>\u001b[0m     com\u001b[39m.\u001b[39;49mrequire_length_match(value, \u001b[39mself\u001b[39;49m\u001b[39m.\u001b[39;49mindex)\n\u001b[0;32m   <a href='file:///c%3A/Users/adrim/.conda/envs/TFG/lib/site-packages/pandas/core/frame.py?line=4535'>4536</a>\u001b[0m \u001b[39mreturn\u001b[39;00m sanitize_array(value, \u001b[39mself\u001b[39m\u001b[39m.\u001b[39mindex, copy\u001b[39m=\u001b[39m\u001b[39mTrue\u001b[39;00m, allow_2d\u001b[39m=\u001b[39m\u001b[39mTrue\u001b[39;00m)\n",
      "File \u001b[1;32mc:\\Users\\adrim\\.conda\\envs\\TFG\\lib\\site-packages\\pandas\\core\\common.py:557\u001b[0m, in \u001b[0;36mrequire_length_match\u001b[1;34m(data, index)\u001b[0m\n\u001b[0;32m    <a href='file:///c%3A/Users/adrim/.conda/envs/TFG/lib/site-packages/pandas/core/common.py?line=552'>553</a>\u001b[0m \u001b[39m\"\"\"\u001b[39;00m\n\u001b[0;32m    <a href='file:///c%3A/Users/adrim/.conda/envs/TFG/lib/site-packages/pandas/core/common.py?line=553'>554</a>\u001b[0m \u001b[39mCheck the length of data matches the length of the index.\u001b[39;00m\n\u001b[0;32m    <a href='file:///c%3A/Users/adrim/.conda/envs/TFG/lib/site-packages/pandas/core/common.py?line=554'>555</a>\u001b[0m \u001b[39m\"\"\"\u001b[39;00m\n\u001b[0;32m    <a href='file:///c%3A/Users/adrim/.conda/envs/TFG/lib/site-packages/pandas/core/common.py?line=555'>556</a>\u001b[0m \u001b[39mif\u001b[39;00m \u001b[39mlen\u001b[39m(data) \u001b[39m!=\u001b[39m \u001b[39mlen\u001b[39m(index):\n\u001b[1;32m--> <a href='file:///c%3A/Users/adrim/.conda/envs/TFG/lib/site-packages/pandas/core/common.py?line=556'>557</a>\u001b[0m     \u001b[39mraise\u001b[39;00m \u001b[39mValueError\u001b[39;00m(\n\u001b[0;32m    <a href='file:///c%3A/Users/adrim/.conda/envs/TFG/lib/site-packages/pandas/core/common.py?line=557'>558</a>\u001b[0m         \u001b[39m\"\u001b[39m\u001b[39mLength of values \u001b[39m\u001b[39m\"\u001b[39m\n\u001b[0;32m    <a href='file:///c%3A/Users/adrim/.conda/envs/TFG/lib/site-packages/pandas/core/common.py?line=558'>559</a>\u001b[0m         \u001b[39mf\u001b[39m\u001b[39m\"\u001b[39m\u001b[39m(\u001b[39m\u001b[39m{\u001b[39;00m\u001b[39mlen\u001b[39m(data)\u001b[39m}\u001b[39;00m\u001b[39m) \u001b[39m\u001b[39m\"\u001b[39m\n\u001b[0;32m    <a href='file:///c%3A/Users/adrim/.conda/envs/TFG/lib/site-packages/pandas/core/common.py?line=559'>560</a>\u001b[0m         \u001b[39m\"\u001b[39m\u001b[39mdoes not match length of index \u001b[39m\u001b[39m\"\u001b[39m\n\u001b[0;32m    <a href='file:///c%3A/Users/adrim/.conda/envs/TFG/lib/site-packages/pandas/core/common.py?line=560'>561</a>\u001b[0m         \u001b[39mf\u001b[39m\u001b[39m\"\u001b[39m\u001b[39m(\u001b[39m\u001b[39m{\u001b[39;00m\u001b[39mlen\u001b[39m(index)\u001b[39m}\u001b[39;00m\u001b[39m)\u001b[39m\u001b[39m\"\u001b[39m\n\u001b[0;32m    <a href='file:///c%3A/Users/adrim/.conda/envs/TFG/lib/site-packages/pandas/core/common.py?line=561'>562</a>\u001b[0m     )\n",
      "\u001b[1;31mValueError\u001b[0m: Length of values (0) does not match length of index (3330)"
     ]
    }
   ],
   "source": [
    "import metrics_obtention as mo\n",
    "df_list = mo.create_dataset_from_videos_NTHU(videos_and_labels, target_folder=\"NTHUDDD_dataset/\", config=config[\"metric_obtention\"])"
   ]
  }
 ],
 "metadata": {
  "interpreter": {
   "hash": "aa8fa589b840ce477995b34707d4fc5a2b1b0e447bc3d51a6c8914538bfacf38"
  },
  "kernelspec": {
   "display_name": "Python 3.9.12 ('TFG')",
   "language": "python",
   "name": "python3"
  },
  "language_info": {
   "codemirror_mode": {
    "name": "ipython",
    "version": 3
   },
   "file_extension": ".py",
   "mimetype": "text/x-python",
   "name": "python",
   "nbconvert_exporter": "python",
   "pygments_lexer": "ipython3",
   "version": "3.9.12"
  },
  "orig_nbformat": 4
 },
 "nbformat": 4,
 "nbformat_minor": 2
}
